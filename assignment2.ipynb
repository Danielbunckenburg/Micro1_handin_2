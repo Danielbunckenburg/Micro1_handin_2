{
 "cells": [
  {
   "cell_type": "code",
   "execution_count": 1,
   "id": "22ced3c4-dc6e-4c2a-8918-79e71f273071",
   "metadata": {},
   "outputs": [],
   "source": [
    "import os\n",
    "\n",
    "os.chdir()"
   ]
  },
  {
   "cell_type": "code",
   "execution_count": 2,
   "id": "fec7a086-3483-4917-a5f5-71cf00e3535f",
   "metadata": {},
   "outputs": [
    {
     "ename": "ModuleNotFoundError",
     "evalue": "No module named 'pdfplumber'",
     "output_type": "error",
     "traceback": [
      "\u001b[1;31m---------------------------------------------------------------------------\u001b[0m",
      "\u001b[1;31mModuleNotFoundError\u001b[0m                       Traceback (most recent call last)",
      "Cell \u001b[1;32mIn[2], line 1\u001b[0m\n\u001b[1;32m----> 1\u001b[0m \u001b[38;5;28;01mimport\u001b[39;00m \u001b[38;5;21;01mpdfplumber\u001b[39;00m\n\u001b[0;32m      2\u001b[0m \u001b[38;5;28;01mimport\u001b[39;00m \u001b[38;5;21;01mpandas\u001b[39;00m \u001b[38;5;28;01mas\u001b[39;00m \u001b[38;5;21;01mpd\u001b[39;00m\n\u001b[0;32m      4\u001b[0m \u001b[38;5;66;03m# 1) Open the PDF\u001b[39;00m\n",
      "\u001b[1;31mModuleNotFoundError\u001b[0m: No module named 'pdfplumber'"
     ]
    }
   ],
   "source": [
    "import pdfplumber\n",
    "import pandas as pd\n",
    "\n",
    "\n",
    "# 1) Open the PDF\n",
    "with pdfplumber.open(\"table.pdf\") as pdf:\n",
    "    # grab page 1 (zero-based index)\n",
    "    page = pdf.pages[0]\n",
    "    \n",
    "    # 2) Extract the table\n",
    "    #    this returns a list of rows, each row is a list of cell-strings\n",
    "    table = page.extract_table()\n",
    "\n",
    "# 3) Turn it into a DataFrame (skip malformed rows if needed)\n",
    "#    table[0] is the header row: [\"q\", \"p\"]\n",
    "df = pd.DataFrame(table[1:], columns=table[0])\n",
    "\n",
    "# 4) Convert strings → numbers and into a NumPy array\n",
    "df = df.astype(float)      # will convert \"17\" → 17.0, \"4.1\" → 4.1, etc.\n",
    "arr = df.values            # shape (n_rows, 2)\n",
    "\n",
    "print(arr)\n"
   ]
  },
  {
   "cell_type": "code",
   "execution_count": null,
   "id": "f338d3a8-e81b-4e30-bb4f-525866aed299",
   "metadata": {},
   "outputs": [],
   "source": []
  }
 ],
 "metadata": {
  "kernelspec": {
   "display_name": "Python 3 (ipykernel)",
   "language": "python",
   "name": "python3"
  },
  "language_info": {
   "codemirror_mode": {
    "name": "ipython",
    "version": 3
   },
   "file_extension": ".py",
   "mimetype": "text/x-python",
   "name": "python",
   "nbconvert_exporter": "python",
   "pygments_lexer": "ipython3",
   "version": "3.12.3"
  }
 },
 "nbformat": 4,
 "nbformat_minor": 5
}
